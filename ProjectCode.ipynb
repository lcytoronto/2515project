{
 "cells": [
  {
   "cell_type": "code",
   "execution_count": 1,
   "metadata": {},
   "outputs": [],
   "source": [
    "from torch.utils.data import Dataset\n",
    "import os\n",
    "import torch\n",
    "import torch.nn as nn\n",
    "import torchvision\n",
    "import torch.nn.functional as F\n",
    "import cv2\n",
    "import matplotlib.pyplot as plt\n",
    "from torch.utils.data import DataLoader,random_split\n",
    "from torchvision.transforms import transforms as T\n",
    "from torch import optim\n",
    "import numpy as np\n",
    "from PIL import Image\n",
    "import random\n",
    "from scipy import ndimage, io, misc\n",
    "import shutil  \n",
    "import torchvision.models as models\n",
    "from tqdm import tqdm\n",
    "from xml.dom import minidom\n",
    "from tqdm.notebook import tqdm\n",
    "import pandas as pd"
   ]
  },
  {
   "cell_type": "code",
   "execution_count": 2,
   "metadata": {},
   "outputs": [],
   "source": [
    "test_list = io.loadmat('test_list.mat')['file_list']\n",
    "train_list = io.loadmat('train_list.mat')['file_list']"
   ]
  },
  {
   "cell_type": "code",
   "execution_count": null,
   "metadata": {},
   "outputs": [],
   "source": [
    "for folder in os.listdir('Images'):\n",
    "    os.makedirs(\"train/\"+folder.split(\"\\\\\")[-1].split(\"-\",1)[-1])\n",
    "    os.makedirs(\"test/\"+folder.split(\"\\\\\")[-1].split(\"-\",1)[-1])"
   ]
  },
  {
   "cell_type": "code",
   "execution_count": null,
   "metadata": {},
   "outputs": [],
   "source": [
    "# original images\n",
    "def move_data_files(image_list, new_folder):\n",
    "    for file in image_list:\n",
    "        if os.path.exists('Images/'+file[0][0]):\n",
    "            folder_name = file[0][0].split(\"/\")[0].split(\"-\",1)[-1]\n",
    "            file_name = file[0][0].split(\"/\")[1]\n",
    "            shutil.move('Images/'+file[0][0],new_folder+'/'+folder_name+'/'+file_name)\n",
    "        elif not os.path.exists(new_folder+'/'+file[0][0]):\n",
    "           print('%s does not exist, it may be missing' % os.path.exists('./images/'+file[0][0]))\n",
    "    return [new_folder+'/'+d for d in sorted(os.listdir(new_folder)) if os.path.isdir(os.path.join(new_folder, d))]"
   ]
  },
  {
   "cell_type": "code",
   "execution_count": null,
   "metadata": {},
   "outputs": [],
   "source": [
    "# crop images\n",
    "def crop_image(image_list,new_folder):\n",
    "    count = 0\n",
    "    for file in image_list:\n",
    "        if os.path.exists('Images/'+file[0][0]):\n",
    "            folder_name = file[0][0].split(\"/\")[0].split(\"-\",1)[-1]\n",
    "            file_name = file[0][0].split(\"/\")[1]\n",
    "            annon_xml = minidom.parse('Annotation/'+file[0][0].split('.')[0])\n",
    "            xmin = int(annon_xml.getElementsByTagName('xmin')[0].firstChild.nodeValue)\n",
    "            ymin = int(annon_xml.getElementsByTagName('ymin')[0].firstChild.nodeValue)\n",
    "            xmax = int(annon_xml.getElementsByTagName('xmax')[0].firstChild.nodeValue)\n",
    "            ymax = int(annon_xml.getElementsByTagName('ymax')[0].firstChild.nodeValue)\n",
    "            img = cv2.imread('Images/'+file[0][0])\n",
    "            cropped_img = img[ymin:ymax,xmin:xmax,:]\n",
    "            cv2.imwrite(new_folder+'/'+folder_name+'/'+file_name,cropped_img)\n",
    " "
   ]
  },
  {
   "cell_type": "code",
   "execution_count": null,
   "metadata": {},
   "outputs": [],
   "source": [
    "crop_image(train_list, 'train')\n",
    "crop_image(test_list, 'test')"
   ]
  },
  {
   "cell_type": "code",
   "execution_count": null,
   "metadata": {},
   "outputs": [],
   "source": [
    "# test_folders = move_data_files(test_list, 'test')\n",
    "# train_folders = move_data_files(train_list, 'train')"
   ]
  },
  {
   "cell_type": "code",
   "execution_count": 2,
   "metadata": {},
   "outputs": [],
   "source": [
    "class ResNet(nn.Module):\n",
    "    def __init__(self, num_classes=120, pretrained = True):\n",
    "        super(ResNet, self).__init__()\n",
    "        self.net = models.resnet50(pretrained=pretrained)\n",
    "        num_ftrs = self.net.fc.in_features\n",
    "        self.net.fc = nn.Sequential(\n",
    "            nn.Linear(num_ftrs, 120),\n",
    "        )\n",
    "\n",
    "    def forward(self, x):\n",
    "        return self.net(x)"
   ]
  },
  {
   "cell_type": "code",
   "execution_count": 3,
   "metadata": {},
   "outputs": [],
   "source": [
    "class VGGNet(nn.Module):\n",
    "    def __init__(self, num_classes=120, pretrained = True):\n",
    "        super(VGGNet, self).__init__()\n",
    "        net = models.vgg16_bn(pretrained=pretrained)\n",
    "#         pre=torch.load('vgg16_bn-6c64b313.pth')\n",
    "#         net.load_state_dict(pre)\n",
    "        net.classifier = nn.Sequential()\n",
    "        self.features = net\n",
    "        self.classifier = nn.Sequential(\n",
    "                nn.Linear(512 * 7 * 7, 512),\n",
    "                nn.ReLU(True),\n",
    "                nn.Dropout(),\n",
    "                nn.Linear(512, 128),\n",
    "                nn.ReLU(True),\n",
    "                nn.Dropout(),\n",
    "                nn.Linear(128, num_classes),\n",
    "        )\n",
    "\n",
    "    def forward(self, x):\n",
    "        x = self.features(x)\n",
    "        x = x.view(x.size(0), -1)\n",
    "        x = self.classifier(x)\n",
    "        return x"
   ]
  },
  {
   "cell_type": "code",
   "execution_count": 4,
   "metadata": {},
   "outputs": [],
   "source": [
    "class GoogleNet(nn.Module):\n",
    "    def __init__(self, num_classes=120, pretrained = True):\n",
    "        super(GoogleNet, self).__init__()\n",
    "        self.net = models.googlenet(pretrained=pretrained)\n",
    "        num_ftrs = self.net.fc.in_features\n",
    "        self.net.fc = nn.Sequential(\n",
    "            nn.Linear(num_ftrs, 120, bias=True),\n",
    "        )\n",
    "\n",
    "    def forward(self, x):\n",
    "        return self.net(x)"
   ]
  },
  {
   "cell_type": "code",
   "execution_count": 20,
   "metadata": {},
   "outputs": [],
   "source": [
    "class CNN(nn.Module):\n",
    "    def __init__(self, num_classes=120):\n",
    "        super(CNN, self).__init__()\n",
    "        self.network = nn.Sequential(\n",
    "            nn.Conv2d(3, 64, 3, stride=1, padding=1),   # 224 * 244 * 64\n",
    "            nn.BatchNorm2d(64),\n",
    "            nn.ReLU(inplace=True),                                   \n",
    "            nn.MaxPool2d(4, 4),                         # 56 * 56 * 64\n",
    "\n",
    "            nn.Conv2d(64, 128, 3, stride=1, padding=1),    # 56 * 56* 128\n",
    "            nn.BatchNorm2d(128),\n",
    "            nn.ReLU(inplace=True),\n",
    "            nn.MaxPool2d(4,4),                          # 14 * 14* 128\n",
    "\n",
    "            nn.Conv2d(128, 256, 3, stride=1, padding=1),   # 14*14*256\n",
    "            nn.BatchNorm2d(256),\n",
    "            nn.ReLU(inplace=True),\n",
    "            nn.MaxPool2d(2,2),                        # 7*7*256\n",
    "            \n",
    "            nn.Flatten(),\n",
    "            nn.Linear(7*7*256, 512),\n",
    "            nn.ReLU(True),\n",
    "            nn.Linear(512, 128),\n",
    "            nn.ReLU(True),\n",
    "            nn.Linear(128, num_classes))\n",
    "\n",
    "            \n",
    "    def forward(self, x):\n",
    "        return self.network(x)\n",
    "        \n",
    "                "
   ]
  },
  {
   "cell_type": "code",
   "execution_count": 6,
   "metadata": {},
   "outputs": [
    {
     "data": {
      "text/plain": [
       "ResNet(\n",
       "  (net): ResNet(\n",
       "    (conv1): Conv2d(3, 64, kernel_size=(7, 7), stride=(2, 2), padding=(3, 3), bias=False)\n",
       "    (bn1): BatchNorm2d(64, eps=1e-05, momentum=0.1, affine=True, track_running_stats=True)\n",
       "    (relu): ReLU(inplace=True)\n",
       "    (maxpool): MaxPool2d(kernel_size=3, stride=2, padding=1, dilation=1, ceil_mode=False)\n",
       "    (layer1): Sequential(\n",
       "      (0): Bottleneck(\n",
       "        (conv1): Conv2d(64, 64, kernel_size=(1, 1), stride=(1, 1), bias=False)\n",
       "        (bn1): BatchNorm2d(64, eps=1e-05, momentum=0.1, affine=True, track_running_stats=True)\n",
       "        (conv2): Conv2d(64, 64, kernel_size=(3, 3), stride=(1, 1), padding=(1, 1), bias=False)\n",
       "        (bn2): BatchNorm2d(64, eps=1e-05, momentum=0.1, affine=True, track_running_stats=True)\n",
       "        (conv3): Conv2d(64, 256, kernel_size=(1, 1), stride=(1, 1), bias=False)\n",
       "        (bn3): BatchNorm2d(256, eps=1e-05, momentum=0.1, affine=True, track_running_stats=True)\n",
       "        (relu): ReLU(inplace=True)\n",
       "        (downsample): Sequential(\n",
       "          (0): Conv2d(64, 256, kernel_size=(1, 1), stride=(1, 1), bias=False)\n",
       "          (1): BatchNorm2d(256, eps=1e-05, momentum=0.1, affine=True, track_running_stats=True)\n",
       "        )\n",
       "      )\n",
       "      (1): Bottleneck(\n",
       "        (conv1): Conv2d(256, 64, kernel_size=(1, 1), stride=(1, 1), bias=False)\n",
       "        (bn1): BatchNorm2d(64, eps=1e-05, momentum=0.1, affine=True, track_running_stats=True)\n",
       "        (conv2): Conv2d(64, 64, kernel_size=(3, 3), stride=(1, 1), padding=(1, 1), bias=False)\n",
       "        (bn2): BatchNorm2d(64, eps=1e-05, momentum=0.1, affine=True, track_running_stats=True)\n",
       "        (conv3): Conv2d(64, 256, kernel_size=(1, 1), stride=(1, 1), bias=False)\n",
       "        (bn3): BatchNorm2d(256, eps=1e-05, momentum=0.1, affine=True, track_running_stats=True)\n",
       "        (relu): ReLU(inplace=True)\n",
       "      )\n",
       "      (2): Bottleneck(\n",
       "        (conv1): Conv2d(256, 64, kernel_size=(1, 1), stride=(1, 1), bias=False)\n",
       "        (bn1): BatchNorm2d(64, eps=1e-05, momentum=0.1, affine=True, track_running_stats=True)\n",
       "        (conv2): Conv2d(64, 64, kernel_size=(3, 3), stride=(1, 1), padding=(1, 1), bias=False)\n",
       "        (bn2): BatchNorm2d(64, eps=1e-05, momentum=0.1, affine=True, track_running_stats=True)\n",
       "        (conv3): Conv2d(64, 256, kernel_size=(1, 1), stride=(1, 1), bias=False)\n",
       "        (bn3): BatchNorm2d(256, eps=1e-05, momentum=0.1, affine=True, track_running_stats=True)\n",
       "        (relu): ReLU(inplace=True)\n",
       "      )\n",
       "    )\n",
       "    (layer2): Sequential(\n",
       "      (0): Bottleneck(\n",
       "        (conv1): Conv2d(256, 128, kernel_size=(1, 1), stride=(1, 1), bias=False)\n",
       "        (bn1): BatchNorm2d(128, eps=1e-05, momentum=0.1, affine=True, track_running_stats=True)\n",
       "        (conv2): Conv2d(128, 128, kernel_size=(3, 3), stride=(2, 2), padding=(1, 1), bias=False)\n",
       "        (bn2): BatchNorm2d(128, eps=1e-05, momentum=0.1, affine=True, track_running_stats=True)\n",
       "        (conv3): Conv2d(128, 512, kernel_size=(1, 1), stride=(1, 1), bias=False)\n",
       "        (bn3): BatchNorm2d(512, eps=1e-05, momentum=0.1, affine=True, track_running_stats=True)\n",
       "        (relu): ReLU(inplace=True)\n",
       "        (downsample): Sequential(\n",
       "          (0): Conv2d(256, 512, kernel_size=(1, 1), stride=(2, 2), bias=False)\n",
       "          (1): BatchNorm2d(512, eps=1e-05, momentum=0.1, affine=True, track_running_stats=True)\n",
       "        )\n",
       "      )\n",
       "      (1): Bottleneck(\n",
       "        (conv1): Conv2d(512, 128, kernel_size=(1, 1), stride=(1, 1), bias=False)\n",
       "        (bn1): BatchNorm2d(128, eps=1e-05, momentum=0.1, affine=True, track_running_stats=True)\n",
       "        (conv2): Conv2d(128, 128, kernel_size=(3, 3), stride=(1, 1), padding=(1, 1), bias=False)\n",
       "        (bn2): BatchNorm2d(128, eps=1e-05, momentum=0.1, affine=True, track_running_stats=True)\n",
       "        (conv3): Conv2d(128, 512, kernel_size=(1, 1), stride=(1, 1), bias=False)\n",
       "        (bn3): BatchNorm2d(512, eps=1e-05, momentum=0.1, affine=True, track_running_stats=True)\n",
       "        (relu): ReLU(inplace=True)\n",
       "      )\n",
       "      (2): Bottleneck(\n",
       "        (conv1): Conv2d(512, 128, kernel_size=(1, 1), stride=(1, 1), bias=False)\n",
       "        (bn1): BatchNorm2d(128, eps=1e-05, momentum=0.1, affine=True, track_running_stats=True)\n",
       "        (conv2): Conv2d(128, 128, kernel_size=(3, 3), stride=(1, 1), padding=(1, 1), bias=False)\n",
       "        (bn2): BatchNorm2d(128, eps=1e-05, momentum=0.1, affine=True, track_running_stats=True)\n",
       "        (conv3): Conv2d(128, 512, kernel_size=(1, 1), stride=(1, 1), bias=False)\n",
       "        (bn3): BatchNorm2d(512, eps=1e-05, momentum=0.1, affine=True, track_running_stats=True)\n",
       "        (relu): ReLU(inplace=True)\n",
       "      )\n",
       "      (3): Bottleneck(\n",
       "        (conv1): Conv2d(512, 128, kernel_size=(1, 1), stride=(1, 1), bias=False)\n",
       "        (bn1): BatchNorm2d(128, eps=1e-05, momentum=0.1, affine=True, track_running_stats=True)\n",
       "        (conv2): Conv2d(128, 128, kernel_size=(3, 3), stride=(1, 1), padding=(1, 1), bias=False)\n",
       "        (bn2): BatchNorm2d(128, eps=1e-05, momentum=0.1, affine=True, track_running_stats=True)\n",
       "        (conv3): Conv2d(128, 512, kernel_size=(1, 1), stride=(1, 1), bias=False)\n",
       "        (bn3): BatchNorm2d(512, eps=1e-05, momentum=0.1, affine=True, track_running_stats=True)\n",
       "        (relu): ReLU(inplace=True)\n",
       "      )\n",
       "    )\n",
       "    (layer3): Sequential(\n",
       "      (0): Bottleneck(\n",
       "        (conv1): Conv2d(512, 256, kernel_size=(1, 1), stride=(1, 1), bias=False)\n",
       "        (bn1): BatchNorm2d(256, eps=1e-05, momentum=0.1, affine=True, track_running_stats=True)\n",
       "        (conv2): Conv2d(256, 256, kernel_size=(3, 3), stride=(2, 2), padding=(1, 1), bias=False)\n",
       "        (bn2): BatchNorm2d(256, eps=1e-05, momentum=0.1, affine=True, track_running_stats=True)\n",
       "        (conv3): Conv2d(256, 1024, kernel_size=(1, 1), stride=(1, 1), bias=False)\n",
       "        (bn3): BatchNorm2d(1024, eps=1e-05, momentum=0.1, affine=True, track_running_stats=True)\n",
       "        (relu): ReLU(inplace=True)\n",
       "        (downsample): Sequential(\n",
       "          (0): Conv2d(512, 1024, kernel_size=(1, 1), stride=(2, 2), bias=False)\n",
       "          (1): BatchNorm2d(1024, eps=1e-05, momentum=0.1, affine=True, track_running_stats=True)\n",
       "        )\n",
       "      )\n",
       "      (1): Bottleneck(\n",
       "        (conv1): Conv2d(1024, 256, kernel_size=(1, 1), stride=(1, 1), bias=False)\n",
       "        (bn1): BatchNorm2d(256, eps=1e-05, momentum=0.1, affine=True, track_running_stats=True)\n",
       "        (conv2): Conv2d(256, 256, kernel_size=(3, 3), stride=(1, 1), padding=(1, 1), bias=False)\n",
       "        (bn2): BatchNorm2d(256, eps=1e-05, momentum=0.1, affine=True, track_running_stats=True)\n",
       "        (conv3): Conv2d(256, 1024, kernel_size=(1, 1), stride=(1, 1), bias=False)\n",
       "        (bn3): BatchNorm2d(1024, eps=1e-05, momentum=0.1, affine=True, track_running_stats=True)\n",
       "        (relu): ReLU(inplace=True)\n",
       "      )\n",
       "      (2): Bottleneck(\n",
       "        (conv1): Conv2d(1024, 256, kernel_size=(1, 1), stride=(1, 1), bias=False)\n",
       "        (bn1): BatchNorm2d(256, eps=1e-05, momentum=0.1, affine=True, track_running_stats=True)\n",
       "        (conv2): Conv2d(256, 256, kernel_size=(3, 3), stride=(1, 1), padding=(1, 1), bias=False)\n",
       "        (bn2): BatchNorm2d(256, eps=1e-05, momentum=0.1, affine=True, track_running_stats=True)\n",
       "        (conv3): Conv2d(256, 1024, kernel_size=(1, 1), stride=(1, 1), bias=False)\n",
       "        (bn3): BatchNorm2d(1024, eps=1e-05, momentum=0.1, affine=True, track_running_stats=True)\n",
       "        (relu): ReLU(inplace=True)\n",
       "      )\n",
       "      (3): Bottleneck(\n",
       "        (conv1): Conv2d(1024, 256, kernel_size=(1, 1), stride=(1, 1), bias=False)\n",
       "        (bn1): BatchNorm2d(256, eps=1e-05, momentum=0.1, affine=True, track_running_stats=True)\n",
       "        (conv2): Conv2d(256, 256, kernel_size=(3, 3), stride=(1, 1), padding=(1, 1), bias=False)\n",
       "        (bn2): BatchNorm2d(256, eps=1e-05, momentum=0.1, affine=True, track_running_stats=True)\n",
       "        (conv3): Conv2d(256, 1024, kernel_size=(1, 1), stride=(1, 1), bias=False)\n",
       "        (bn3): BatchNorm2d(1024, eps=1e-05, momentum=0.1, affine=True, track_running_stats=True)\n",
       "        (relu): ReLU(inplace=True)\n",
       "      )\n",
       "      (4): Bottleneck(\n",
       "        (conv1): Conv2d(1024, 256, kernel_size=(1, 1), stride=(1, 1), bias=False)\n",
       "        (bn1): BatchNorm2d(256, eps=1e-05, momentum=0.1, affine=True, track_running_stats=True)\n",
       "        (conv2): Conv2d(256, 256, kernel_size=(3, 3), stride=(1, 1), padding=(1, 1), bias=False)\n",
       "        (bn2): BatchNorm2d(256, eps=1e-05, momentum=0.1, affine=True, track_running_stats=True)\n",
       "        (conv3): Conv2d(256, 1024, kernel_size=(1, 1), stride=(1, 1), bias=False)\n",
       "        (bn3): BatchNorm2d(1024, eps=1e-05, momentum=0.1, affine=True, track_running_stats=True)\n",
       "        (relu): ReLU(inplace=True)\n",
       "      )\n",
       "      (5): Bottleneck(\n",
       "        (conv1): Conv2d(1024, 256, kernel_size=(1, 1), stride=(1, 1), bias=False)\n",
       "        (bn1): BatchNorm2d(256, eps=1e-05, momentum=0.1, affine=True, track_running_stats=True)\n",
       "        (conv2): Conv2d(256, 256, kernel_size=(3, 3), stride=(1, 1), padding=(1, 1), bias=False)\n",
       "        (bn2): BatchNorm2d(256, eps=1e-05, momentum=0.1, affine=True, track_running_stats=True)\n",
       "        (conv3): Conv2d(256, 1024, kernel_size=(1, 1), stride=(1, 1), bias=False)\n",
       "        (bn3): BatchNorm2d(1024, eps=1e-05, momentum=0.1, affine=True, track_running_stats=True)\n",
       "        (relu): ReLU(inplace=True)\n",
       "      )\n",
       "    )\n",
       "    (layer4): Sequential(\n",
       "      (0): Bottleneck(\n",
       "        (conv1): Conv2d(1024, 512, kernel_size=(1, 1), stride=(1, 1), bias=False)\n",
       "        (bn1): BatchNorm2d(512, eps=1e-05, momentum=0.1, affine=True, track_running_stats=True)\n",
       "        (conv2): Conv2d(512, 512, kernel_size=(3, 3), stride=(2, 2), padding=(1, 1), bias=False)\n",
       "        (bn2): BatchNorm2d(512, eps=1e-05, momentum=0.1, affine=True, track_running_stats=True)\n",
       "        (conv3): Conv2d(512, 2048, kernel_size=(1, 1), stride=(1, 1), bias=False)\n",
       "        (bn3): BatchNorm2d(2048, eps=1e-05, momentum=0.1, affine=True, track_running_stats=True)\n",
       "        (relu): ReLU(inplace=True)\n",
       "        (downsample): Sequential(\n",
       "          (0): Conv2d(1024, 2048, kernel_size=(1, 1), stride=(2, 2), bias=False)\n",
       "          (1): BatchNorm2d(2048, eps=1e-05, momentum=0.1, affine=True, track_running_stats=True)\n",
       "        )\n",
       "      )\n",
       "      (1): Bottleneck(\n",
       "        (conv1): Conv2d(2048, 512, kernel_size=(1, 1), stride=(1, 1), bias=False)\n",
       "        (bn1): BatchNorm2d(512, eps=1e-05, momentum=0.1, affine=True, track_running_stats=True)\n",
       "        (conv2): Conv2d(512, 512, kernel_size=(3, 3), stride=(1, 1), padding=(1, 1), bias=False)\n",
       "        (bn2): BatchNorm2d(512, eps=1e-05, momentum=0.1, affine=True, track_running_stats=True)\n",
       "        (conv3): Conv2d(512, 2048, kernel_size=(1, 1), stride=(1, 1), bias=False)\n",
       "        (bn3): BatchNorm2d(2048, eps=1e-05, momentum=0.1, affine=True, track_running_stats=True)\n",
       "        (relu): ReLU(inplace=True)\n",
       "      )\n",
       "      (2): Bottleneck(\n",
       "        (conv1): Conv2d(2048, 512, kernel_size=(1, 1), stride=(1, 1), bias=False)\n",
       "        (bn1): BatchNorm2d(512, eps=1e-05, momentum=0.1, affine=True, track_running_stats=True)\n",
       "        (conv2): Conv2d(512, 512, kernel_size=(3, 3), stride=(1, 1), padding=(1, 1), bias=False)\n",
       "        (bn2): BatchNorm2d(512, eps=1e-05, momentum=0.1, affine=True, track_running_stats=True)\n",
       "        (conv3): Conv2d(512, 2048, kernel_size=(1, 1), stride=(1, 1), bias=False)\n",
       "        (bn3): BatchNorm2d(2048, eps=1e-05, momentum=0.1, affine=True, track_running_stats=True)\n",
       "        (relu): ReLU(inplace=True)\n",
       "      )\n",
       "    )\n",
       "    (avgpool): AdaptiveAvgPool2d(output_size=(1, 1))\n",
       "    (fc): Sequential(\n",
       "      (0): Linear(in_features=2048, out_features=120, bias=True)\n",
       "    )\n",
       "  )\n",
       ")"
      ]
     },
     "execution_count": 6,
     "metadata": {},
     "output_type": "execute_result"
    }
   ],
   "source": [
    "ResNet().cuda()"
   ]
  },
  {
   "cell_type": "code",
   "execution_count": 7,
   "metadata": {},
   "outputs": [],
   "source": [
    "image_length = 224\n",
    "train_transform=T.Compose([\n",
    "#                     T.RandomResizedCrop(image_length),\n",
    "#                     T.RandomHorizontalFlip(),\n",
    "#                     T.RandomCrop(224, padding=2, padding_mode='reflect'),\n",
    "#                     T.RandomRotation(degrees=20),\n",
    "                    T.Resize((image_length,image_length)),\n",
    "                    T.ToTensor(),\n",
    "                    T.Normalize(mean=[0.485, 0.456, 0.406],std=[0.229, 0.224, 0.225])]\n",
    "                         )\n",
    "test_transform = T.Compose([T.Resize((image_length,image_length)),\n",
    "                    T.ToTensor(),\n",
    "                    T.Normalize(mean=[0.485, 0.456, 0.406],std=[0.229, 0.224, 0.225])]\n",
    "                          )"
   ]
  },
  {
   "cell_type": "code",
   "execution_count": 8,
   "metadata": {},
   "outputs": [],
   "source": [
    "batch_size = 32\n",
    "datasets   = torchvision.datasets.ImageFolder('train_new',train_transform)\n",
    "# datasets   = torchvision.datasets.ImageFolder('train',train_transform)\n",
    "train_size = int(len(datasets)*0.8)\n",
    "val_size = len(datasets) - train_size\n",
    "train_datasets,val_datasets = random_split(datasets, [train_size, val_size])\n",
    "train_dataloader = torch.utils.data.DataLoader(train_datasets , batch_size=batch_size, shuffle=True)\n",
    "val_dataloader = torch.utils.data.DataLoader(val_datasets , batch_size=100)\n",
    "test_datasets   = torchvision.datasets.ImageFolder('test',test_transform)\n",
    "test_dataloader = torch.utils.data.DataLoader(test_datasets , batch_size=1)"
   ]
  },
  {
   "cell_type": "code",
   "execution_count": 9,
   "metadata": {},
   "outputs": [
    {
     "data": {
      "text/plain": [
       "(52679, 13170, 8580)"
      ]
     },
     "execution_count": 9,
     "metadata": {},
     "output_type": "execute_result"
    }
   ],
   "source": [
    "len(train_datasets),len(val_datasets),len(test_datasets)"
   ]
  },
  {
   "cell_type": "code",
   "execution_count": 10,
   "metadata": {},
   "outputs": [],
   "source": [
    "def accuracy(output, labels):\n",
    "    pred = torch.max(output, dim=1)[1]\n",
    "    return (pred == labels).sum().item()/ len(labels)"
   ]
  },
  {
   "cell_type": "code",
   "execution_count": 13,
   "metadata": {},
   "outputs": [],
   "source": [
    "def train_epoch(model, train_dataloader, optimizer, loss_func, train_loss_list, train_accuracy_list):\n",
    "    train_loss = 0.\n",
    "    train_acc = 0.\n",
    "    model.train()\n",
    "    for batch_x, batch_y in tqdm(train_dataloader):\n",
    "        batch_x = batch_x.to(device)\n",
    "        batch_y = batch_y.to(device)\n",
    "        out = model(batch_x)\n",
    "        loss = loss_func(out, batch_y)\n",
    "        train_loss += loss.item()\n",
    "        train_acc += accuracy(out, batch_y)\n",
    "        optimizer.zero_grad()\n",
    "        loss.backward()\n",
    "        optimizer.step()\n",
    "    print('Train Loss: {:.6f}, Acc: {:.6f}'.format(train_loss / (len(\n",
    "    train_dataloader)), train_acc / (len(train_dataloader))))\n",
    "    train_loss_list.append(train_loss / (len(train_dataloader)))\n",
    "    train_accuracy_list.append(train_acc / (len(train_dataloader)))\n",
    "    return train_loss_list, train_accuracy_list"
   ]
  },
  {
   "cell_type": "code",
   "execution_count": 12,
   "metadata": {},
   "outputs": [],
   "source": [
    "# mixup augmentation\n",
    "def train_epoch(model, train_dataloader, optimizer, criterion, train_loss_list, train_accuracy_list):\n",
    "    train_loss = 0.\n",
    "    train_acc = 0.\n",
    "    model.train()\n",
    "    for batch_x, batch_y in tqdm(train_dataloader):\n",
    "        batch_x = batch_x.to(device)\n",
    "        batch_y = batch_y.to(device)\n",
    "        alpha=1\n",
    "        lam = np.random.beta(alpha,alpha)\n",
    "        index = torch.randperm(batch_x.size(0)).cuda()\n",
    "        inputs = lam*batch_x + (1-lam)*batch_x[index,:]\n",
    "        batch_y_a, batch_y_b = batch_y, batch_y[index]\n",
    "        outputs = model(inputs)\n",
    "        loss = lam * criterion(outputs, batch_y_a) + (1 - lam) * criterion(outputs, batch_y_b)\n",
    "        train_loss += loss.item()\n",
    "        train_acc += lam * accuracy(outputs, batch_y_a) + (1 - lam) * accuracy(outputs, batch_y_b)\n",
    "        optimizer.zero_grad()\n",
    "        loss.backward()\n",
    "        optimizer.step()\n",
    "    print('Train Loss: {:.6f}, Acc: {:.6f}'.format(train_loss / (len(\n",
    "    train_dataloader)), train_acc / (len(train_dataloader))))\n",
    "    train_loss_list.append(train_loss / (len(train_dataloader)))\n",
    "    train_accuracy_list.append(train_acc / (len(train_dataloader)))\n",
    "    return train_loss_list, train_accuracy_list"
   ]
  },
  {
   "cell_type": "code",
   "execution_count": 16,
   "metadata": {},
   "outputs": [],
   "source": [
    "def val_epoch(model, test_dataloader, optimizer, loss_func, test_loss_list, test_accuracy_list, best_test_accuracy):\n",
    "    model.eval()\n",
    "    with torch.no_grad():\n",
    "        test_loss = 0.\n",
    "        test_acc = 0.\n",
    "        for batch_x, batch_y in tqdm(test_dataloader):\n",
    "            batch_x = batch_x.to(device)\n",
    "            batch_y = batch_y.to(device)\n",
    "            out = model(batch_x)\n",
    "            loss = loss_func(out, batch_y)\n",
    "            test_loss += loss.item()\n",
    "            test_acc += accuracy(out, batch_y)\n",
    "        print('Test Loss: {:.6f}, Acc: {:.6f}'.format(test_loss / (len(\n",
    "        test_dataloader)), test_acc / (len(test_dataloader))))\n",
    "        test_loss_list.append(test_loss / (len(test_dataloader)))\n",
    "        test_accuracy_list.append(test_acc / (len(test_dataloader)))\n",
    "        if (test_acc / (len(test_dataloader))) > best_test_accuracy:\n",
    "            best_test_accuracy = test_acc / (len(test_dataloader))\n",
    "            torch.save(model.state_dict(),\"cnn_large.pth\")\n",
    "    return test_loss_list, test_accuracy_list, best_test_accuracy"
   ]
  },
  {
   "cell_type": "code",
   "execution_count": 17,
   "metadata": {},
   "outputs": [],
   "source": [
    "def test_result(model, test_dataloader):\n",
    "    model.eval()\n",
    "    with torch.no_grad():\n",
    "        test_acc = 0.\n",
    "        for batch_x, batch_y in tqdm(test_dataloader):\n",
    "            batch_x = batch_x.to(device)\n",
    "            batch_y = batch_y.to(device)\n",
    "            out = model(batch_x)\n",
    "            test_acc += accuracy(out, batch_y)\n",
    "        print('Test Acc: {:.6f}'.format(test_acc / (len(test_dataloader))))"
   ]
  },
  {
   "cell_type": "code",
   "execution_count": 21,
   "metadata": {},
   "outputs": [],
   "source": [
    "epoch = 10\n",
    "device = torch.device('cuda' if torch.cuda.is_available() else 'cpu')\n",
    "# model = VGGNet().to(device)\n",
    "# model = ResNet(pretrained=True).to(device)\n",
    "# model = GoogleNet().to(device)\n",
    "model = CNN().to(device)\n",
    "loss_func = nn.CrossEntropyLoss()\n",
    "optimizer = optim.Adam(model.parameters(),1e-4)"
   ]
  },
  {
   "cell_type": "code",
   "execution_count": 22,
   "metadata": {
    "scrolled": true
   },
   "outputs": [
    {
     "name": "stdout",
     "output_type": "stream",
     "text": [
      "epoch 1\n"
     ]
    },
    {
     "data": {
      "application/vnd.jupyter.widget-view+json": {
       "model_id": "612ab959e9b34221b6cc1411a9bb172f",
       "version_major": 2,
       "version_minor": 0
      },
      "text/plain": [
       "HBox(children=(FloatProgress(value=0.0, max=1647.0), HTML(value='')))"
      ]
     },
     "metadata": {},
     "output_type": "display_data"
    },
    {
     "name": "stdout",
     "output_type": "stream",
     "text": [
      "\n",
      "Train Loss: 3.704267, Acc: 0.161403\n"
     ]
    },
    {
     "data": {
      "application/vnd.jupyter.widget-view+json": {
       "model_id": "0a13d6e692014f8cb4f157bacbefb2b8",
       "version_major": 2,
       "version_minor": 0
      },
      "text/plain": [
       "HBox(children=(FloatProgress(value=0.0, max=132.0), HTML(value='')))"
      ]
     },
     "metadata": {},
     "output_type": "display_data"
    },
    {
     "name": "stdout",
     "output_type": "stream",
     "text": [
      "\n",
      "Test Loss: 3.381022, Acc: 0.195866\n",
      "epoch 2\n"
     ]
    },
    {
     "data": {
      "application/vnd.jupyter.widget-view+json": {
       "model_id": "8da0c3a0e6724d7ca2ebaeba61f2ea5b",
       "version_major": 2,
       "version_minor": 0
      },
      "text/plain": [
       "HBox(children=(FloatProgress(value=0.0, max=1647.0), HTML(value='')))"
      ]
     },
     "metadata": {},
     "output_type": "display_data"
    },
    {
     "name": "stdout",
     "output_type": "stream",
     "text": [
      "\n",
      "Train Loss: 3.082951, Acc: 0.252185\n"
     ]
    },
    {
     "data": {
      "application/vnd.jupyter.widget-view+json": {
       "model_id": "bbefccdf5d32426a8e96c2eac60e6922",
       "version_major": 2,
       "version_minor": 0
      },
      "text/plain": [
       "HBox(children=(FloatProgress(value=0.0, max=132.0), HTML(value='')))"
      ]
     },
     "metadata": {},
     "output_type": "display_data"
    },
    {
     "name": "stdout",
     "output_type": "stream",
     "text": [
      "\n",
      "Test Loss: 3.055865, Acc: 0.253874\n",
      "epoch 3\n"
     ]
    },
    {
     "data": {
      "application/vnd.jupyter.widget-view+json": {
       "model_id": "0d40d9594b724067b35a67d671037450",
       "version_major": 2,
       "version_minor": 0
      },
      "text/plain": [
       "HBox(children=(FloatProgress(value=0.0, max=1647.0), HTML(value='')))"
      ]
     },
     "metadata": {},
     "output_type": "display_data"
    },
    {
     "name": "stdout",
     "output_type": "stream",
     "text": [
      "\n",
      "Train Loss: 2.739576, Acc: 0.315864\n"
     ]
    },
    {
     "data": {
      "application/vnd.jupyter.widget-view+json": {
       "model_id": "944c4f987bb3454a8dd82eef240e81c9",
       "version_major": 2,
       "version_minor": 0
      },
      "text/plain": [
       "HBox(children=(FloatProgress(value=0.0, max=132.0), HTML(value='')))"
      ]
     },
     "metadata": {},
     "output_type": "display_data"
    },
    {
     "name": "stdout",
     "output_type": "stream",
     "text": [
      "\n",
      "Test Loss: 2.918191, Acc: 0.278074\n",
      "epoch 4\n"
     ]
    },
    {
     "data": {
      "application/vnd.jupyter.widget-view+json": {
       "model_id": "0ed83233941f4644a4027b7f0a2e4406",
       "version_major": 2,
       "version_minor": 0
      },
      "text/plain": [
       "HBox(children=(FloatProgress(value=0.0, max=1647.0), HTML(value='')))"
      ]
     },
     "metadata": {},
     "output_type": "display_data"
    },
    {
     "name": "stdout",
     "output_type": "stream",
     "text": [
      "\n",
      "Train Loss: 2.494716, Acc: 0.363364\n"
     ]
    },
    {
     "data": {
      "application/vnd.jupyter.widget-view+json": {
       "model_id": "b8544845143f4e99825716c776a3e07f",
       "version_major": 2,
       "version_minor": 0
      },
      "text/plain": [
       "HBox(children=(FloatProgress(value=0.0, max=132.0), HTML(value='')))"
      ]
     },
     "metadata": {},
     "output_type": "display_data"
    },
    {
     "name": "stdout",
     "output_type": "stream",
     "text": [
      "\n",
      "Test Loss: 2.639205, Acc: 0.330152\n",
      "epoch 5\n"
     ]
    },
    {
     "data": {
      "application/vnd.jupyter.widget-view+json": {
       "model_id": "6c1aaca1df4b4526bb4c8b87923ee2af",
       "version_major": 2,
       "version_minor": 0
      },
      "text/plain": [
       "HBox(children=(FloatProgress(value=0.0, max=1647.0), HTML(value='')))"
      ]
     },
     "metadata": {},
     "output_type": "display_data"
    },
    {
     "name": "stdout",
     "output_type": "stream",
     "text": [
      "\n",
      "Train Loss: 2.278357, Acc: 0.409139\n"
     ]
    },
    {
     "data": {
      "application/vnd.jupyter.widget-view+json": {
       "model_id": "a0b87a9d715d4165b5751c409e47ccc5",
       "version_major": 2,
       "version_minor": 0
      },
      "text/plain": [
       "HBox(children=(FloatProgress(value=0.0, max=132.0), HTML(value='')))"
      ]
     },
     "metadata": {},
     "output_type": "display_data"
    },
    {
     "name": "stdout",
     "output_type": "stream",
     "text": [
      "\n",
      "Test Loss: 2.567123, Acc: 0.352370\n",
      "epoch 6\n"
     ]
    },
    {
     "data": {
      "application/vnd.jupyter.widget-view+json": {
       "model_id": "ff2ccbd97a734220be2c6e7c2d98fb6c",
       "version_major": 2,
       "version_minor": 0
      },
      "text/plain": [
       "HBox(children=(FloatProgress(value=0.0, max=1647.0), HTML(value='')))"
      ]
     },
     "metadata": {},
     "output_type": "display_data"
    },
    {
     "name": "stdout",
     "output_type": "stream",
     "text": [
      "\n",
      "Train Loss: 2.096015, Acc: 0.450896\n"
     ]
    },
    {
     "data": {
      "application/vnd.jupyter.widget-view+json": {
       "model_id": "9594d6f9f91c4832a967d13a13bdc754",
       "version_major": 2,
       "version_minor": 0
      },
      "text/plain": [
       "HBox(children=(FloatProgress(value=0.0, max=132.0), HTML(value='')))"
      ]
     },
     "metadata": {},
     "output_type": "display_data"
    },
    {
     "name": "stdout",
     "output_type": "stream",
     "text": [
      "\n",
      "Test Loss: 2.531992, Acc: 0.360595\n",
      "epoch 7\n"
     ]
    },
    {
     "data": {
      "application/vnd.jupyter.widget-view+json": {
       "model_id": "f31bf637a2364f319bd85fdc98c4ba37",
       "version_major": 2,
       "version_minor": 0
      },
      "text/plain": [
       "HBox(children=(FloatProgress(value=0.0, max=1647.0), HTML(value='')))"
      ]
     },
     "metadata": {},
     "output_type": "display_data"
    },
    {
     "name": "stdout",
     "output_type": "stream",
     "text": [
      "\n",
      "Train Loss: 1.922823, Acc: 0.489445\n"
     ]
    },
    {
     "data": {
      "application/vnd.jupyter.widget-view+json": {
       "model_id": "09be0e1244f643f6aaa47be06fb688e2",
       "version_major": 2,
       "version_minor": 0
      },
      "text/plain": [
       "HBox(children=(FloatProgress(value=0.0, max=132.0), HTML(value='')))"
      ]
     },
     "metadata": {},
     "output_type": "display_data"
    },
    {
     "name": "stdout",
     "output_type": "stream",
     "text": [
      "\n",
      "Test Loss: 2.392444, Acc: 0.385844\n",
      "epoch 8\n"
     ]
    },
    {
     "data": {
      "application/vnd.jupyter.widget-view+json": {
       "model_id": "063a9e784ee3449e915fb822a42dd5c9",
       "version_major": 2,
       "version_minor": 0
      },
      "text/plain": [
       "HBox(children=(FloatProgress(value=0.0, max=1647.0), HTML(value='')))"
      ]
     },
     "metadata": {},
     "output_type": "display_data"
    },
    {
     "name": "stdout",
     "output_type": "stream",
     "text": [
      "\n",
      "Train Loss: 1.758322, Acc: 0.528680\n"
     ]
    },
    {
     "data": {
      "application/vnd.jupyter.widget-view+json": {
       "model_id": "7db8f897c9f049db8378ca6a94d718f0",
       "version_major": 2,
       "version_minor": 0
      },
      "text/plain": [
       "HBox(children=(FloatProgress(value=0.0, max=132.0), HTML(value='')))"
      ]
     },
     "metadata": {},
     "output_type": "display_data"
    },
    {
     "name": "stdout",
     "output_type": "stream",
     "text": [
      "\n",
      "Test Loss: 2.427585, Acc: 0.388474\n",
      "epoch 9\n"
     ]
    },
    {
     "data": {
      "application/vnd.jupyter.widget-view+json": {
       "model_id": "97f2dcc89d8147c5b958d3fcb49925d0",
       "version_major": 2,
       "version_minor": 0
      },
      "text/plain": [
       "HBox(children=(FloatProgress(value=0.0, max=1647.0), HTML(value='')))"
      ]
     },
     "metadata": {},
     "output_type": "display_data"
    },
    {
     "name": "stdout",
     "output_type": "stream",
     "text": [
      "\n",
      "Train Loss: 1.605113, Acc: 0.565143\n"
     ]
    },
    {
     "data": {
      "application/vnd.jupyter.widget-view+json": {
       "model_id": "d0984f7725da4126902bf668ceaae53c",
       "version_major": 2,
       "version_minor": 0
      },
      "text/plain": [
       "HBox(children=(FloatProgress(value=0.0, max=132.0), HTML(value='')))"
      ]
     },
     "metadata": {},
     "output_type": "display_data"
    },
    {
     "name": "stdout",
     "output_type": "stream",
     "text": [
      "\n",
      "Test Loss: 2.343486, Acc: 0.404545\n",
      "epoch 10\n"
     ]
    },
    {
     "data": {
      "application/vnd.jupyter.widget-view+json": {
       "model_id": "4c286e34189548ed8dea7656c1b65885",
       "version_major": 2,
       "version_minor": 0
      },
      "text/plain": [
       "HBox(children=(FloatProgress(value=0.0, max=1647.0), HTML(value='')))"
      ]
     },
     "metadata": {},
     "output_type": "display_data"
    },
    {
     "name": "stdout",
     "output_type": "stream",
     "text": [
      "\n",
      "Train Loss: 1.447368, Acc: 0.606381\n"
     ]
    },
    {
     "data": {
      "application/vnd.jupyter.widget-view+json": {
       "model_id": "ca3e8bf714f34b7391358ddb7a8136d0",
       "version_major": 2,
       "version_minor": 0
      },
      "text/plain": [
       "HBox(children=(FloatProgress(value=0.0, max=132.0), HTML(value='')))"
      ]
     },
     "metadata": {},
     "output_type": "display_data"
    },
    {
     "name": "stdout",
     "output_type": "stream",
     "text": [
      "\n",
      "Test Loss: 2.307566, Acc: 0.419102\n"
     ]
    },
    {
     "data": {
      "application/vnd.jupyter.widget-view+json": {
       "model_id": "05146f3c7a5c49cfa15f0cf99d411f4b",
       "version_major": 2,
       "version_minor": 0
      },
      "text/plain": [
       "HBox(children=(FloatProgress(value=0.0, max=8580.0), HTML(value='')))"
      ]
     },
     "metadata": {},
     "output_type": "display_data"
    },
    {
     "name": "stdout",
     "output_type": "stream",
     "text": [
      "\n",
      "Test Acc: 0.330653\n"
     ]
    }
   ],
   "source": [
    "train_loss_list = []\n",
    "train_accuracy_list = []\n",
    "test_loss_list = []\n",
    "test_accuracy_list = []\n",
    "best_test_accuracy = 0\n",
    "\n",
    "for epoch in range(epoch):\n",
    "    print('epoch {}'.format(epoch + 1))\n",
    "    train_loss_list, train_accuracy_list = train_epoch(model, train_dataloader, \\\n",
    "                                                       optimizer, loss_func, train_loss_list, train_accuracy_list)\n",
    "    test_loss_list, test_accuracy_list, best_test_accuracy = val_epoch(model, val_dataloader, \\\n",
    "                                                optimizer, loss_func, test_loss_list, test_accuracy_list, best_test_accuracy)\n",
    "test_result(model, test_dataloader)"
   ]
  },
  {
   "cell_type": "code",
   "execution_count": 24,
   "metadata": {
    "scrolled": true
   },
   "outputs": [
    {
     "data": {
      "application/vnd.jupyter.widget-view+json": {
       "model_id": "54089254a0874d87be3c6ce536756242",
       "version_major": 2,
       "version_minor": 0
      },
      "text/plain": [
       "HBox(children=(FloatProgress(value=0.0, max=8580.0), HTML(value='')))"
      ]
     },
     "metadata": {},
     "output_type": "display_data"
    },
    {
     "name": "stdout",
     "output_type": "stream",
     "text": [
      "\n",
      "Test Acc: 0.857226\n"
     ]
    }
   ],
   "source": [
    "# googlemodel = GoogleNet().to(device)\n",
    "# googlemodel.eval()\n",
    "# googlemodel.load_state_dict(torch.load('google_large.pth'))\n",
    "# test_result(googlemodel, test_dataloader)"
   ]
  },
  {
   "cell_type": "code",
   "execution_count": 37,
   "metadata": {},
   "outputs": [],
   "source": [
    "def get_breed_and_accuracy(out):\n",
    "    probabilities = F.softmax(out, dim=1) \n",
    "    breed = torch.max(out, dim=1)[1]\n",
    "    breed_prob = torch.max(probabilities[0])\n",
    "    return breed, breed_prob\n",
    "\n",
    "def get_final_predict(vggout, googleout, resout):\n",
    "    size = len(vggout)\n",
    "    vgg_breed, vgg_prob = get_breed_and_accuracy(vggout)\n",
    "    google_breed, google_prob = get_breed_and_accuracy(vggout)\n",
    "    resbreed, res_prob = get_breed_and_accuracy(resout)\n",
    "    if vgg_breed == google_breed or vgg_breed == resbreed:\n",
    "        result = vgg_breed\n",
    "    elif google_breed == resbreed:\n",
    "        result = google_breed\n",
    "    else:\n",
    "        arr = [vgg_breed, google_breed, resbreed]\n",
    "        prob_arr = np.array([vgg_prob, google_prob, res_prob])\n",
    "        result=arr[prob_arr.argmax()]\n",
    "    return result\n",
    "\n",
    "def test_model_with_major_vote():\n",
    "    resmodel = ResNet().to(device)\n",
    "    resmodel.eval()\n",
    "    resmodel.load_state_dict(torch.load('resnet_large.pth'))\n",
    "    googlemodel = GoogleNet().to(device)\n",
    "    googlemodel.eval()\n",
    "    googlemodel.load_state_dict(torch.load('google_large.pth'))\n",
    "    vggmodel = VGGNet().to(device)\n",
    "    vggmodel.eval()\n",
    "    vggmodel.load_state_dict(torch.load('vggnet_large.pth'))\n",
    "#     vggmodel.load_state_dict(torch.load('weight_1_best.pth'))\n",
    "#     inv_map = {v: k for k, v in test_datasets.class_to_idx.items()}\n",
    "\n",
    "    res = np.zeros((120, 120))\n",
    "    total = np.zeros(120)\n",
    "    with torch.no_grad():\n",
    "        for batch_x, batch_y in tqdm(test_dataloader):\n",
    "            batch_x = batch_x.to(device)\n",
    "            batch_y = batch_y.to(device)\n",
    "            vggout = vggmodel(batch_x)\n",
    "            googleout = googlemodel(batch_x)\n",
    "            resout = resmodel(batch_x)\n",
    "#             vgg_breed, vgg_prob = get_breed_and_accuracy(vggout)\n",
    "#             google_breed, google_prob = get_breed_and_accuracy(googleout)\n",
    "#             res_breed, google_prob = get_breed_and_accuracy(resout)\n",
    "            pred = get_final_predict(vggout, googleout, resout)\n",
    "            total[batch_y.item()] += 1\n",
    "#             if (pred == batch_y).item():\n",
    "            res[batch_y.item()][pred.item()] += 1\n",
    "    return res, total\n",
    "#             (pred == labels).sum().item()/ len(labels)\n",
    "#             total[batch_y.item()] = total[batch_y.item()] + 1\n",
    "#             if correct:\n",
    "#                 res[batch_y.item()] = res[batch_y.item()] + 1"
   ]
  },
  {
   "cell_type": "code",
   "execution_count": 38,
   "metadata": {},
   "outputs": [
    {
     "data": {
      "application/vnd.jupyter.widget-view+json": {
       "model_id": "65c8b92afc914c1184b864df7ba0720d",
       "version_major": 2,
       "version_minor": 0
      },
      "text/plain": [
       "HBox(children=(FloatProgress(value=0.0, max=8580.0), HTML(value='')))"
      ]
     },
     "metadata": {},
     "output_type": "display_data"
    },
    {
     "name": "stdout",
     "output_type": "stream",
     "text": [
      "\n"
     ]
    }
   ],
   "source": [
    "res, total = test_model_with_major_vote()"
   ]
  },
  {
   "cell_type": "code",
   "execution_count": 40,
   "metadata": {},
   "outputs": [
    {
     "data": {
      "text/plain": [
       "0.8111888111888111"
      ]
     },
     "execution_count": 40,
     "metadata": {},
     "output_type": "execute_result"
    }
   ],
   "source": [
    "res.diagonal().sum() / total.sum()"
   ]
  },
  {
   "cell_type": "code",
   "execution_count": 41,
   "metadata": {},
   "outputs": [
    {
     "data": {
      "text/plain": [
       "24"
      ]
     },
     "execution_count": 41,
     "metadata": {},
     "output_type": "execute_result"
    }
   ],
   "source": [
    "res.sum(axis=0)\n",
    "mispredict = res.sum(axis=0) - res.diagonal()\n",
    "mispredict.argmax()"
   ]
  },
  {
   "cell_type": "code",
   "execution_count": 42,
   "metadata": {},
   "outputs": [
    {
     "data": {
      "text/plain": [
       "71.0"
      ]
     },
     "execution_count": 42,
     "metadata": {},
     "output_type": "execute_result"
    }
   ],
   "source": [
    "mispredict[mispredict.argmax()]"
   ]
  },
  {
   "cell_type": "code",
   "execution_count": 43,
   "metadata": {},
   "outputs": [
    {
     "data": {
      "text/plain": [
       "'Eskimo_dog'"
      ]
     },
     "execution_count": 43,
     "metadata": {},
     "output_type": "execute_result"
    }
   ],
   "source": [
    "inv_map = {v: k for k, v in test_datasets.class_to_idx.items()}\n",
    "inv_map[mispredict.argmax()]"
   ]
  },
  {
   "cell_type": "code",
   "execution_count": 44,
   "metadata": {},
   "outputs": [
    {
     "data": {
      "text/plain": [
       "38.0"
      ]
     },
     "execution_count": 44,
     "metadata": {},
     "output_type": "execute_result"
    }
   ],
   "source": [
    "res[mispredict.argmax(), mispredict.argmax()]"
   ]
  },
  {
   "cell_type": "code",
   "execution_count": 45,
   "metadata": {},
   "outputs": [
    {
     "data": {
      "text/plain": [
       "array([ 0.,  0.,  0.,  0.,  0.,  0.,  0.,  0.,  0.,  0.,  0.,  0.,  0.,\n",
       "        0.,  0.,  2.,  0.,  0.,  0.,  0.,  0.,  0.,  0.,  0., 38.,  0.,\n",
       "        2.,  0.,  0.,  0.,  2.,  0.,  0.,  0.,  0.,  0.,  0.,  1.,  0.,\n",
       "        0.,  0.,  0.,  1.,  0.,  0.,  0.,  0.,  0.,  1.,  0.,  0.,  0.,\n",
       "        1.,  0.,  0.,  0.,  0.,  0.,  1.,  0.,  0.,  0.,  0.,  0., 27.,\n",
       "        0.,  0.,  0.,  0.,  0.,  0.,  0.,  0.,  0.,  0.,  0.,  0.,  1.,\n",
       "        0.,  0.,  0.,  0.,  0.,  0.,  0.,  0.,  0.,  0.,  0.,  0.,  0.,\n",
       "        1.,  1.,  0.,  0.,  0.,  0.,  0.,  0.,  0.,  0., 29.,  0.,  0.,\n",
       "        0.,  0.,  0.,  0.,  0.,  0.,  0.,  0.,  0.,  0.,  0.,  0.,  0.,\n",
       "        0.,  0.,  1.])"
      ]
     },
     "execution_count": 45,
     "metadata": {},
     "output_type": "execute_result"
    }
   ],
   "source": [
    "res[:, mispredict.argmax()]"
   ]
  },
  {
   "cell_type": "code",
   "execution_count": 46,
   "metadata": {},
   "outputs": [],
   "source": [
    "temp = res.copy()\n",
    "np.fill_diagonal(temp, 0)"
   ]
  },
  {
   "cell_type": "code",
   "execution_count": 47,
   "metadata": {},
   "outputs": [
    {
     "data": {
      "text/plain": [
       "array([[101,  24],\n",
       "       [ 64,  24],\n",
       "       [ 37, 118]], dtype=int64)"
      ]
     },
     "execution_count": 47,
     "metadata": {},
     "output_type": "execute_result"
    }
   ],
   "source": [
    "idx = np.argpartition(-temp.ravel(),3)[:3]\n",
    "top_3 = np.column_stack(np.unravel_index(idx, temp.shape))\n",
    "top_3"
   ]
  },
  {
   "cell_type": "code",
   "execution_count": 48,
   "metadata": {},
   "outputs": [
    {
     "name": "stdout",
     "output_type": "stream",
     "text": [
      "malamute\n",
      "Eskimo_dog\n",
      "Siberian_husky\n",
      "Eskimo_dog\n",
      "Italian_greyhound\n",
      "whippet\n"
     ]
    }
   ],
   "source": [
    "print(inv_map[top_3[0][0]])\n",
    "print(inv_map[top_3[0][1]])\n",
    "print(inv_map[top_3[1][0]])\n",
    "print(inv_map[top_3[1][1]])\n",
    "print(inv_map[top_3[2][0]])\n",
    "print(inv_map[top_3[2][1]])"
   ]
  },
  {
   "cell_type": "code",
   "execution_count": 49,
   "metadata": {},
   "outputs": [
    {
     "data": {
      "text/plain": [
       "array([ 0.,  0.,  0., ..., 22., 27., 29.])"
      ]
     },
     "execution_count": 49,
     "metadata": {},
     "output_type": "execute_result"
    }
   ],
   "source": [
    "np.sort(temp, axis=None)"
   ]
  },
  {
   "cell_type": "code",
   "execution_count": 50,
   "metadata": {},
   "outputs": [
    {
     "name": "stdout",
     "output_type": "stream",
     "text": [
      "29.0\n",
      "27.0\n",
      "22.0\n"
     ]
    }
   ],
   "source": [
    "print(res[top_3[0][0], top_3[0][1]])\n",
    "print(res[top_3[1][0], top_3[1][1]])\n",
    "print(res[top_3[2][0], top_3[2][1]])\n"
   ]
  },
  {
   "cell_type": "code",
   "execution_count": null,
   "metadata": {},
   "outputs": [],
   "source": [
    "image_path = './low-resolution'\n",
    "dataset = []\n",
    "for element in os.listdir(image_path):\n",
    "    for img_id in os.listdir(os.path.join(image_path, element)):\n",
    "        path = os.path.join(element, img_id)\n",
    "        label = element.split('-')[2]\n",
    "        dataset.append((path, label))\n",
    "df = pd.DataFrame(dataset, columns = ['Path', 'Label'])\n",
    "for i in range(len(df)):\n",
    "    path = df.iloc[i][0]\n",
    "    #print(image_path+'/'+path)\n",
    "    original_path = image_path+'/'+path\n",
    "    #img = Image.open(image_path+'/'+path).convert('RGB')\n",
    "    #plt.imshow(img)\n",
    "    img_trans  = test_transform(img)\n",
    "    out = model(img_trans.unsqueeze(0))\n",
    "    probabilities = F.softmax(out,dim=1) \n",
    "    breed = inv_map[torch.max(out, 1)[1].item()]\n",
    "    breed_prob = torch.max(probabilities[0])\n",
    "    print(breed)\n",
    "    print(torch.max(probabilities[0]))\n",
    "    if breed_prob > 0.8:\n",
    "        des_path = './train/' + breed\n",
    "        #print(des_path)\n",
    "        shutil.copy(original_path,des_path)"
   ]
  },
  {
   "cell_type": "code",
   "execution_count": 59,
   "metadata": {},
   "outputs": [
    {
     "name": "stdout",
     "output_type": "stream",
     "text": [
      "['golden_retriever', 'Afghan_hound', 'papillon', 'Samoyed', 'komondor', 'clumber', 'Irish_water_spaniel', 'Norwegian_elkhound', 'West_Highland_white_terrier', 'Ibizan_hound']\n",
      "[0.98, 0.9784, 0.9688, 0.9661, 0.963, 0.96, 0.96, 0.9583, 0.9565, 0.9545]\n",
      "['collie', 'malamute', 'Staffordshire_bullterrier', 'miniature_poodle', 'standard_poodle', 'Eskimo_dog', 'Irish_wolfhound', 'Appenzeller', 'Lhasa', 'Australian_terrier']\n",
      "[0.3208, 0.3846, 0.4182, 0.4364, 0.4746, 0.5, 0.5254, 0.5294, 0.5581, 0.5625]\n"
     ]
    }
   ],
   "source": [
    "correct = res.diagonal()\n",
    "best_10 = []\n",
    "best_10_acc = []\n",
    "worst_10 = []\n",
    "worst_10_acc = []\n",
    "accuarcy_per_group = np.round(correct/total,4)\n",
    "sorted_ascend = accuarcy_per_group.argsort()\n",
    "sorted_descend = accuarcy_per_group.argsort()[::-1]\n",
    "\n",
    "for i in range(10):\n",
    "    best_10.append(inv_map[sorted_descend[i]])\n",
    "    best_10_acc.append(accuarcy_per_group[sorted_descend[i]])\n",
    "    worst_10.append(inv_map[sorted_ascend[i]])\n",
    "    worst_10_acc.append(accuarcy_per_group[sorted_ascend[i]])\n",
    "print(best_10)\n",
    "print(best_10_acc)\n",
    "print(worst_10)\n",
    "print(worst_10_acc)"
   ]
  },
  {
   "cell_type": "code",
   "execution_count": 61,
   "metadata": {},
   "outputs": [
    {
     "data": {
      "text/plain": [
       "(0.0, 1.0)"
      ]
     },
     "execution_count": 61,
     "metadata": {},
     "output_type": "execute_result"
    },
    {
     "data": {
      "image/png": "[encoded data removed]",
      "text/plain": [
       "<Figure size 432x288 with 1 Axes>"
      ]
     },
     "metadata": {
      "needs_background": "light"
     },
     "output_type": "display_data"
    }
   ],
   "source": [
    "#visualize best 10 matches\n",
    "plt.barh(best_10[::-1], best_10_acc[::-1]) \n",
    "plt.grid(axis='x', alpha=0.75)\n",
    "# plt.yticks(x, best_10[::-1])\n",
    "plt.ylabel('Dog Breed',fontsize=15)\n",
    "plt.xlabel('Accuarcy',fontsize=10)\n",
    "plt.title(\"Best 10 matches\")\n",
    "plt.xlim(0, 1)"
   ]
  },
  {
   "cell_type": "code",
   "execution_count": 62,
   "metadata": {},
   "outputs": [
    {
     "data": {
      "text/plain": [
       "(0.0, 1.0)"
      ]
     },
     "execution_count": 62,
     "metadata": {},
     "output_type": "execute_result"
    },
    {
     "data": {
      "image/png": "[encoded data removed]",
      "text/plain": [
       "<Figure size 432x288 with 1 Axes>"
      ]
     },
     "metadata": {
      "needs_background": "light"
     },
     "output_type": "display_data"
    }
   ],
   "source": [
    "#visualize worst 10 matches\n",
    "plt.barh(worst_10[::-1], worst_10_acc[::-1]) \n",
    "plt.grid(axis='x', alpha=0.75)\n",
    "# plt.yticks(x, worst_10[::-1])\n",
    "plt.ylabel('Dog Breed',fontsize=15)\n",
    "plt.xlabel('Accuarcy',fontsize=10)\n",
    "plt.title(\"Worst 10 matches\")\n",
    "plt.xlim(0, 1)"
   ]
  },
  {
   "cell_type": "code",
   "execution_count": null,
   "metadata": {},
   "outputs": [],
   "source": []
  },
  {
   "cell_type": "code",
   "execution_count": null,
   "metadata": {},
   "outputs": [],
   "source": []
  },
  {
   "cell_type": "code",
   "execution_count": null,
   "metadata": {},
   "outputs": [],
   "source": []
  },
  {
   "cell_type": "code",
   "execution_count": null,
   "metadata": {},
   "outputs": [],
   "source": []
  }
 ],
 "metadata": {
  "kernelspec": {
   "display_name": "Python 3",
   "language": "python",
   "name": "python3"
  },
  "language_info": {
   "codemirror_mode": {
    "name": "ipython",
    "version": 3
   },
   "file_extension": ".py",
   "mimetype": "text/x-python",
   "name": "python",
   "nbconvert_exporter": "python",
   "pygments_lexer": "ipython3",
   "version": "3.8.3"
  }
 },
 "nbformat": 4,
 "nbformat_minor": 4
}
